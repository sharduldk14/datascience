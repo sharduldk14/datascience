{
 "cells": [
  {
   "cell_type": "markdown",
   "id": "f8b70d12",
   "metadata": {},
   "source": [
    "# Reporting on sales data\n",
    "\n",
    "Now let's now move on to the competition and challenge.\n",
    "\n",
    "## 📖 Background\n",
    "You work in the accounting department of a company that sells motorcycle parts. The company operates three warehouses in a large metropolitan area.\n",
    "\n",
    "You’ve recently learned data manipulation and plotting, and suggest helping your colleague analyze past sales data. Your colleague wants to capture sales by payment method. She also needs to know the average unit price for each product line."
   ]
  },
  {
   "cell_type": "code",
   "execution_count": 16,
   "id": "70a3b9bd",
   "metadata": {},
   "outputs": [
    {
     "data": {
      "application/com.datacamp.data-table.v1+json": {
       "is_truncated": false,
       "table": {
        "data": [
         {
          "client_type": "Retail",
          "date": "2021-06-01T00:00:00.000Z",
          "index": 0,
          "payment": "Credit card",
          "product_line": "Miscellaneous",
          "quantity": 8,
          "total": 134.83,
          "unit_price": 16.85,
          "warehouse": "Central"
         },
         {
          "client_type": "Retail",
          "date": "2021-06-01T00:00:00.000Z",
          "index": 1,
          "payment": "Cash",
          "product_line": "Breaking system",
          "quantity": 9,
          "total": 173.61,
          "unit_price": 19.29,
          "warehouse": "North"
         },
         {
          "client_type": "Retail",
          "date": "2021-06-01T00:00:00.000Z",
          "index": 2,
          "payment": "Credit card",
          "product_line": "Suspension & traction",
          "quantity": 8,
          "total": 263.45,
          "unit_price": 32.93,
          "warehouse": "North"
         },
         {
          "client_type": "Wholesale",
          "date": "2021-06-01T00:00:00.000Z",
          "index": 3,
          "payment": "Transfer",
          "product_line": "Frame & body",
          "quantity": 16,
          "total": 605.44,
          "unit_price": 37.84,
          "warehouse": "North"
         },
         {
          "client_type": "Retail",
          "date": "2021-06-01T00:00:00.000Z",
          "index": 4,
          "payment": "Credit card",
          "product_line": "Engine",
          "quantity": 2,
          "total": 120.96,
          "unit_price": 60.48,
          "warehouse": "Central"
         }
        ],
        "schema": {
         "fields": [
          {
           "name": "index",
           "type": "integer"
          },
          {
           "name": "date",
           "type": "datetime"
          },
          {
           "name": "warehouse",
           "type": "string"
          },
          {
           "name": "client_type",
           "type": "string"
          },
          {
           "name": "product_line",
           "type": "string"
          },
          {
           "name": "quantity",
           "type": "integer"
          },
          {
           "name": "unit_price",
           "type": "number"
          },
          {
           "name": "total",
           "type": "number"
          },
          {
           "name": "payment",
           "type": "string"
          }
         ],
         "pandas_version": "0.20.0",
         "primaryKey": [
          "index"
         ]
        }
       },
       "total_rows": 5
      },
      "text/html": [
       "<div>\n",
       "<style scoped>\n",
       "    .dataframe tbody tr th:only-of-type {\n",
       "        vertical-align: middle;\n",
       "    }\n",
       "\n",
       "    .dataframe tbody tr th {\n",
       "        vertical-align: top;\n",
       "    }\n",
       "\n",
       "    .dataframe thead th {\n",
       "        text-align: right;\n",
       "    }\n",
       "</style>\n",
       "<table border=\"1\" class=\"dataframe\">\n",
       "  <thead>\n",
       "    <tr style=\"text-align: right;\">\n",
       "      <th></th>\n",
       "      <th>date</th>\n",
       "      <th>warehouse</th>\n",
       "      <th>client_type</th>\n",
       "      <th>product_line</th>\n",
       "      <th>quantity</th>\n",
       "      <th>unit_price</th>\n",
       "      <th>total</th>\n",
       "      <th>payment</th>\n",
       "    </tr>\n",
       "  </thead>\n",
       "  <tbody>\n",
       "    <tr>\n",
       "      <th>0</th>\n",
       "      <td>2021-06-01</td>\n",
       "      <td>Central</td>\n",
       "      <td>Retail</td>\n",
       "      <td>Miscellaneous</td>\n",
       "      <td>8</td>\n",
       "      <td>16.85</td>\n",
       "      <td>134.83</td>\n",
       "      <td>Credit card</td>\n",
       "    </tr>\n",
       "    <tr>\n",
       "      <th>1</th>\n",
       "      <td>2021-06-01</td>\n",
       "      <td>North</td>\n",
       "      <td>Retail</td>\n",
       "      <td>Breaking system</td>\n",
       "      <td>9</td>\n",
       "      <td>19.29</td>\n",
       "      <td>173.61</td>\n",
       "      <td>Cash</td>\n",
       "    </tr>\n",
       "    <tr>\n",
       "      <th>2</th>\n",
       "      <td>2021-06-01</td>\n",
       "      <td>North</td>\n",
       "      <td>Retail</td>\n",
       "      <td>Suspension &amp; traction</td>\n",
       "      <td>8</td>\n",
       "      <td>32.93</td>\n",
       "      <td>263.45</td>\n",
       "      <td>Credit card</td>\n",
       "    </tr>\n",
       "    <tr>\n",
       "      <th>3</th>\n",
       "      <td>2021-06-01</td>\n",
       "      <td>North</td>\n",
       "      <td>Wholesale</td>\n",
       "      <td>Frame &amp; body</td>\n",
       "      <td>16</td>\n",
       "      <td>37.84</td>\n",
       "      <td>605.44</td>\n",
       "      <td>Transfer</td>\n",
       "    </tr>\n",
       "    <tr>\n",
       "      <th>4</th>\n",
       "      <td>2021-06-01</td>\n",
       "      <td>Central</td>\n",
       "      <td>Retail</td>\n",
       "      <td>Engine</td>\n",
       "      <td>2</td>\n",
       "      <td>60.48</td>\n",
       "      <td>120.96</td>\n",
       "      <td>Credit card</td>\n",
       "    </tr>\n",
       "  </tbody>\n",
       "</table>\n",
       "</div>"
      ],
      "text/plain": [
       "        date warehouse client_type           product_line  quantity  \\\n",
       "0 2021-06-01   Central      Retail          Miscellaneous         8   \n",
       "1 2021-06-01     North      Retail        Breaking system         9   \n",
       "2 2021-06-01     North      Retail  Suspension & traction         8   \n",
       "3 2021-06-01     North   Wholesale           Frame & body        16   \n",
       "4 2021-06-01   Central      Retail                 Engine         2   \n",
       "\n",
       "   unit_price   total      payment  \n",
       "0       16.85  134.83  Credit card  \n",
       "1       19.29  173.61         Cash  \n",
       "2       32.93  263.45  Credit card  \n",
       "3       37.84  605.44     Transfer  \n",
       "4       60.48  120.96  Credit card  "
      ]
     },
     "execution_count": 16,
     "metadata": {},
     "output_type": "execute_result"
    }
   ],
   "source": [
    "# Importing the pandas module\n",
    "import pandas as pd\n",
    "\n",
    "# Reading in the sales data\n",
    "df = pd.read_csv('data/sales_data.csv', parse_dates=['date'])\n",
    "\n",
    "# Take a look at the first datapoints\n",
    "df.head()\n",
    "\n"
   ]
  },
  {
   "cell_type": "code",
   "execution_count": 2,
   "id": "8ded4171-e46e-4168-b3df-930e9bafeb15",
   "metadata": {},
   "outputs": [
    {
     "data": {
      "text/plain": [
       "(1000, 8)"
      ]
     },
     "execution_count": 2,
     "metadata": {},
     "output_type": "execute_result"
    }
   ],
   "source": [
    "df.shape"
   ]
  },
  {
   "cell_type": "code",
   "execution_count": 3,
   "id": "7e8d3966-86d0-4c4c-a05c-26059ba2c115",
   "metadata": {},
   "outputs": [
    {
     "data": {
      "application/com.datacamp.data-table.v1+json": {
       "is_truncated": false,
       "table": {
        "data": [
         {
          "index": "count",
          "quantity": 1000,
          "total": 1000,
          "unit_price": 1000
         },
         {
          "index": "mean",
          "quantity": 9.395,
          "total": 289.113,
          "unit_price": 30.32204
         },
         {
          "index": "std",
          "quantity": 9.6592067622,
          "total": 345.2275964464,
          "unit_price": 12.2564880344
         },
         {
          "index": "min",
          "quantity": 1,
          "total": 10.35,
          "unit_price": 10.03
         },
         {
          "index": "25%",
          "quantity": 4,
          "total": 93.6875,
          "unit_price": 21.085
         },
         {
          "index": "50%",
          "quantity": 6.5,
          "total": 178.36,
          "unit_price": 28.57
         },
         {
          "index": "75%",
          "quantity": 10,
          "total": 321.69,
          "unit_price": 37.9175
         },
         {
          "index": "max",
          "quantity": 40,
          "total": 2546.33,
          "unit_price": 66.62
         }
        ],
        "schema": {
         "fields": [
          {
           "name": "index",
           "type": "string"
          },
          {
           "name": "quantity",
           "type": "number"
          },
          {
           "name": "unit_price",
           "type": "number"
          },
          {
           "name": "total",
           "type": "number"
          }
         ],
         "pandas_version": "0.20.0",
         "primaryKey": [
          "index"
         ]
        }
       },
       "total_rows": 8
      },
      "text/html": [
       "<div>\n",
       "<style scoped>\n",
       "    .dataframe tbody tr th:only-of-type {\n",
       "        vertical-align: middle;\n",
       "    }\n",
       "\n",
       "    .dataframe tbody tr th {\n",
       "        vertical-align: top;\n",
       "    }\n",
       "\n",
       "    .dataframe thead th {\n",
       "        text-align: right;\n",
       "    }\n",
       "</style>\n",
       "<table border=\"1\" class=\"dataframe\">\n",
       "  <thead>\n",
       "    <tr style=\"text-align: right;\">\n",
       "      <th></th>\n",
       "      <th>quantity</th>\n",
       "      <th>unit_price</th>\n",
       "      <th>total</th>\n",
       "    </tr>\n",
       "  </thead>\n",
       "  <tbody>\n",
       "    <tr>\n",
       "      <th>count</th>\n",
       "      <td>1000.000000</td>\n",
       "      <td>1000.000000</td>\n",
       "      <td>1000.000000</td>\n",
       "    </tr>\n",
       "    <tr>\n",
       "      <th>mean</th>\n",
       "      <td>9.395000</td>\n",
       "      <td>30.322040</td>\n",
       "      <td>289.113000</td>\n",
       "    </tr>\n",
       "    <tr>\n",
       "      <th>std</th>\n",
       "      <td>9.659207</td>\n",
       "      <td>12.256488</td>\n",
       "      <td>345.227596</td>\n",
       "    </tr>\n",
       "    <tr>\n",
       "      <th>min</th>\n",
       "      <td>1.000000</td>\n",
       "      <td>10.030000</td>\n",
       "      <td>10.350000</td>\n",
       "    </tr>\n",
       "    <tr>\n",
       "      <th>25%</th>\n",
       "      <td>4.000000</td>\n",
       "      <td>21.085000</td>\n",
       "      <td>93.687500</td>\n",
       "    </tr>\n",
       "    <tr>\n",
       "      <th>50%</th>\n",
       "      <td>6.500000</td>\n",
       "      <td>28.570000</td>\n",
       "      <td>178.360000</td>\n",
       "    </tr>\n",
       "    <tr>\n",
       "      <th>75%</th>\n",
       "      <td>10.000000</td>\n",
       "      <td>37.917500</td>\n",
       "      <td>321.690000</td>\n",
       "    </tr>\n",
       "    <tr>\n",
       "      <th>max</th>\n",
       "      <td>40.000000</td>\n",
       "      <td>66.620000</td>\n",
       "      <td>2546.330000</td>\n",
       "    </tr>\n",
       "  </tbody>\n",
       "</table>\n",
       "</div>"
      ],
      "text/plain": [
       "          quantity   unit_price        total\n",
       "count  1000.000000  1000.000000  1000.000000\n",
       "mean      9.395000    30.322040   289.113000\n",
       "std       9.659207    12.256488   345.227596\n",
       "min       1.000000    10.030000    10.350000\n",
       "25%       4.000000    21.085000    93.687500\n",
       "50%       6.500000    28.570000   178.360000\n",
       "75%      10.000000    37.917500   321.690000\n",
       "max      40.000000    66.620000  2546.330000"
      ]
     },
     "execution_count": 3,
     "metadata": {},
     "output_type": "execute_result"
    }
   ],
   "source": [
    "df.describe()"
   ]
  },
  {
   "cell_type": "code",
   "execution_count": 4,
   "id": "5d4e35b9",
   "metadata": {},
   "outputs": [
    {
     "data": {
      "application/com.datacamp.data-table.v1+json": {
       "is_truncated": false,
       "table": {
        "data": [
         {
          "total": 141982.88,
          "warehouse": "Central"
         },
         {
          "total": 100203.63,
          "warehouse": "North"
         },
         {
          "total": 46926.49,
          "warehouse": "West"
         }
        ],
        "schema": {
         "fields": [
          {
           "name": "warehouse",
           "type": "string"
          },
          {
           "name": "total",
           "type": "number"
          }
         ],
         "pandas_version": "0.20.0",
         "primaryKey": [
          "warehouse"
         ]
        }
       },
       "total_rows": 3
      },
      "text/html": [
       "<div>\n",
       "<style scoped>\n",
       "    .dataframe tbody tr th:only-of-type {\n",
       "        vertical-align: middle;\n",
       "    }\n",
       "\n",
       "    .dataframe tbody tr th {\n",
       "        vertical-align: top;\n",
       "    }\n",
       "\n",
       "    .dataframe thead th {\n",
       "        text-align: right;\n",
       "    }\n",
       "</style>\n",
       "<table border=\"1\" class=\"dataframe\">\n",
       "  <thead>\n",
       "    <tr style=\"text-align: right;\">\n",
       "      <th></th>\n",
       "      <th>total</th>\n",
       "    </tr>\n",
       "    <tr>\n",
       "      <th>warehouse</th>\n",
       "      <th></th>\n",
       "    </tr>\n",
       "  </thead>\n",
       "  <tbody>\n",
       "    <tr>\n",
       "      <th>Central</th>\n",
       "      <td>141982.88</td>\n",
       "    </tr>\n",
       "    <tr>\n",
       "      <th>North</th>\n",
       "      <td>100203.63</td>\n",
       "    </tr>\n",
       "    <tr>\n",
       "      <th>West</th>\n",
       "      <td>46926.49</td>\n",
       "    </tr>\n",
       "  </tbody>\n",
       "</table>\n",
       "</div>"
      ],
      "text/plain": [
       "               total\n",
       "warehouse           \n",
       "Central    141982.88\n",
       "North      100203.63\n",
       "West        46926.49"
      ]
     },
     "execution_count": 4,
     "metadata": {},
     "output_type": "execute_result"
    }
   ],
   "source": [
    "df.groupby('warehouse')[['total']].sum()"
   ]
  },
  {
   "cell_type": "code",
   "execution_count": 5,
   "id": "4f22ecb4",
   "metadata": {},
   "outputs": [
    {
     "data": {
      "image/png": "[encoded data removed]",
      "text/plain": [
       "<Figure size 432x288 with 1 Axes>"
      ]
     },
     "metadata": {
      "needs_background": "light"
     },
     "output_type": "display_data"
    }
   ],
   "source": [
    "import matplotlib.pyplot as plt\n",
    "\n",
    "avg_units_client_type = df.groupby('client_type')['quantity'].mean()\n",
    "avg_units_client_type.plot(kind='bar')\n",
    "plt.show()"
   ]
  },
  {
   "cell_type": "markdown",
   "id": "bb4cd736",
   "metadata": {},
   "source": [
    "## 💾 The data\n",
    "\n",
    "#### The sales data has the following fields:\n",
    "- \"date\" - The date, from June to August 2021.\n",
    "- \"warehouse\" - The company operates three warehouses: North, Central, and West.\n",
    "- \"client_type\" - There are two types of customers: Retail and Wholesale.\n",
    "- \"product_line\" - Type of products purchased.\n",
    "- \"quantity\" - How many items were purchased.\n",
    "- \"unit_price\" - Price per item sold.\n",
    "- \"total\" - Total sale = quantity * unit_price.\n",
    "- \"payment\" - How the client paid: Cash, Credit card, Transfer."
   ]
  },
  {
   "cell_type": "code",
   "execution_count": 6,
   "id": "9e45e1f8",
   "metadata": {},
   "outputs": [
    {
     "data": {
      "application/com.datacamp.data-table.v1+json": {
       "is_truncated": false,
       "table": {
        "data": [
         {
          "client_type": "Retail",
          "date": "2021-06-01T00:00:00.000Z",
          "index": 0,
          "payment": "Credit card",
          "product_line": "Miscellaneous",
          "quantity": 8,
          "total": 134.83,
          "unit_price": 16.85,
          "warehouse": "Central"
         },
         {
          "client_type": "Retail",
          "date": "2021-06-01T00:00:00.000Z",
          "index": 1,
          "payment": "Cash",
          "product_line": "Breaking system",
          "quantity": 9,
          "total": 173.61,
          "unit_price": 19.29,
          "warehouse": "North"
         },
         {
          "client_type": "Retail",
          "date": "2021-06-01T00:00:00.000Z",
          "index": 2,
          "payment": "Credit card",
          "product_line": "Suspension & traction",
          "quantity": 8,
          "total": 263.45,
          "unit_price": 32.93,
          "warehouse": "North"
         },
         {
          "client_type": "Wholesale",
          "date": "2021-06-01T00:00:00.000Z",
          "index": 3,
          "payment": "Transfer",
          "product_line": "Frame & body",
          "quantity": 16,
          "total": 605.44,
          "unit_price": 37.84,
          "warehouse": "North"
         },
         {
          "client_type": "Retail",
          "date": "2021-06-01T00:00:00.000Z",
          "index": 4,
          "payment": "Credit card",
          "product_line": "Engine",
          "quantity": 2,
          "total": 120.96,
          "unit_price": 60.48,
          "warehouse": "Central"
         },
         {
          "client_type": "Wholesale",
          "date": "2021-06-01T00:00:00.000Z",
          "index": 5,
          "payment": "Transfer",
          "product_line": "Suspension & traction",
          "quantity": 40,
          "total": 1494.8,
          "unit_price": 37.37,
          "warehouse": "North"
         },
         {
          "client_type": "Retail",
          "date": "2021-06-01T00:00:00.000Z",
          "index": 6,
          "payment": "Credit card",
          "product_line": "Electrical system",
          "quantity": 2,
          "total": 54.41,
          "unit_price": 27.2,
          "warehouse": "West"
         },
         {
          "client_type": "Retail",
          "date": "2021-06-01T00:00:00.000Z",
          "index": 7,
          "payment": "Credit card",
          "product_line": "Breaking system",
          "quantity": 10,
          "total": 224.38,
          "unit_price": 22.44,
          "warehouse": "Central"
         },
         {
          "client_type": "Wholesale",
          "date": "2021-06-01T00:00:00.000Z",
          "index": 8,
          "payment": "Transfer",
          "product_line": "Frame & body",
          "quantity": 40,
          "total": 1579.87,
          "unit_price": 39.5,
          "warehouse": "West"
         },
         {
          "client_type": "Retail",
          "date": "2021-06-01T00:00:00.000Z",
          "index": 9,
          "payment": "Credit card",
          "product_line": "Frame & body",
          "quantity": 6,
          "total": 272.61,
          "unit_price": 45.44,
          "warehouse": "North"
         }
        ],
        "schema": {
         "fields": [
          {
           "name": "index",
           "type": "integer"
          },
          {
           "name": "date",
           "type": "datetime"
          },
          {
           "name": "warehouse",
           "type": "string"
          },
          {
           "name": "client_type",
           "type": "string"
          },
          {
           "name": "product_line",
           "type": "string"
          },
          {
           "name": "quantity",
           "type": "integer"
          },
          {
           "name": "unit_price",
           "type": "number"
          },
          {
           "name": "total",
           "type": "number"
          },
          {
           "name": "payment",
           "type": "string"
          }
         ],
         "pandas_version": "0.20.0",
         "primaryKey": [
          "index"
         ]
        }
       },
       "total_rows": 10
      },
      "text/html": [
       "<div>\n",
       "<style scoped>\n",
       "    .dataframe tbody tr th:only-of-type {\n",
       "        vertical-align: middle;\n",
       "    }\n",
       "\n",
       "    .dataframe tbody tr th {\n",
       "        vertical-align: top;\n",
       "    }\n",
       "\n",
       "    .dataframe thead th {\n",
       "        text-align: right;\n",
       "    }\n",
       "</style>\n",
       "<table border=\"1\" class=\"dataframe\">\n",
       "  <thead>\n",
       "    <tr style=\"text-align: right;\">\n",
       "      <th></th>\n",
       "      <th>date</th>\n",
       "      <th>warehouse</th>\n",
       "      <th>client_type</th>\n",
       "      <th>product_line</th>\n",
       "      <th>quantity</th>\n",
       "      <th>unit_price</th>\n",
       "      <th>total</th>\n",
       "      <th>payment</th>\n",
       "    </tr>\n",
       "  </thead>\n",
       "  <tbody>\n",
       "    <tr>\n",
       "      <th>0</th>\n",
       "      <td>2021-06-01</td>\n",
       "      <td>Central</td>\n",
       "      <td>Retail</td>\n",
       "      <td>Miscellaneous</td>\n",
       "      <td>8</td>\n",
       "      <td>16.85</td>\n",
       "      <td>134.83</td>\n",
       "      <td>Credit card</td>\n",
       "    </tr>\n",
       "    <tr>\n",
       "      <th>1</th>\n",
       "      <td>2021-06-01</td>\n",
       "      <td>North</td>\n",
       "      <td>Retail</td>\n",
       "      <td>Breaking system</td>\n",
       "      <td>9</td>\n",
       "      <td>19.29</td>\n",
       "      <td>173.61</td>\n",
       "      <td>Cash</td>\n",
       "    </tr>\n",
       "    <tr>\n",
       "      <th>2</th>\n",
       "      <td>2021-06-01</td>\n",
       "      <td>North</td>\n",
       "      <td>Retail</td>\n",
       "      <td>Suspension &amp; traction</td>\n",
       "      <td>8</td>\n",
       "      <td>32.93</td>\n",
       "      <td>263.45</td>\n",
       "      <td>Credit card</td>\n",
       "    </tr>\n",
       "    <tr>\n",
       "      <th>3</th>\n",
       "      <td>2021-06-01</td>\n",
       "      <td>North</td>\n",
       "      <td>Wholesale</td>\n",
       "      <td>Frame &amp; body</td>\n",
       "      <td>16</td>\n",
       "      <td>37.84</td>\n",
       "      <td>605.44</td>\n",
       "      <td>Transfer</td>\n",
       "    </tr>\n",
       "    <tr>\n",
       "      <th>4</th>\n",
       "      <td>2021-06-01</td>\n",
       "      <td>Central</td>\n",
       "      <td>Retail</td>\n",
       "      <td>Engine</td>\n",
       "      <td>2</td>\n",
       "      <td>60.48</td>\n",
       "      <td>120.96</td>\n",
       "      <td>Credit card</td>\n",
       "    </tr>\n",
       "    <tr>\n",
       "      <th>5</th>\n",
       "      <td>2021-06-01</td>\n",
       "      <td>North</td>\n",
       "      <td>Wholesale</td>\n",
       "      <td>Suspension &amp; traction</td>\n",
       "      <td>40</td>\n",
       "      <td>37.37</td>\n",
       "      <td>1494.80</td>\n",
       "      <td>Transfer</td>\n",
       "    </tr>\n",
       "    <tr>\n",
       "      <th>6</th>\n",
       "      <td>2021-06-01</td>\n",
       "      <td>West</td>\n",
       "      <td>Retail</td>\n",
       "      <td>Electrical system</td>\n",
       "      <td>2</td>\n",
       "      <td>27.20</td>\n",
       "      <td>54.41</td>\n",
       "      <td>Credit card</td>\n",
       "    </tr>\n",
       "    <tr>\n",
       "      <th>7</th>\n",
       "      <td>2021-06-01</td>\n",
       "      <td>Central</td>\n",
       "      <td>Retail</td>\n",
       "      <td>Breaking system</td>\n",
       "      <td>10</td>\n",
       "      <td>22.44</td>\n",
       "      <td>224.38</td>\n",
       "      <td>Credit card</td>\n",
       "    </tr>\n",
       "    <tr>\n",
       "      <th>8</th>\n",
       "      <td>2021-06-01</td>\n",
       "      <td>West</td>\n",
       "      <td>Wholesale</td>\n",
       "      <td>Frame &amp; body</td>\n",
       "      <td>40</td>\n",
       "      <td>39.50</td>\n",
       "      <td>1579.87</td>\n",
       "      <td>Transfer</td>\n",
       "    </tr>\n",
       "    <tr>\n",
       "      <th>9</th>\n",
       "      <td>2021-06-01</td>\n",
       "      <td>North</td>\n",
       "      <td>Retail</td>\n",
       "      <td>Frame &amp; body</td>\n",
       "      <td>6</td>\n",
       "      <td>45.44</td>\n",
       "      <td>272.61</td>\n",
       "      <td>Credit card</td>\n",
       "    </tr>\n",
       "  </tbody>\n",
       "</table>\n",
       "</div>"
      ],
      "text/plain": [
       "        date warehouse client_type           product_line  quantity  \\\n",
       "0 2021-06-01   Central      Retail          Miscellaneous         8   \n",
       "1 2021-06-01     North      Retail        Breaking system         9   \n",
       "2 2021-06-01     North      Retail  Suspension & traction         8   \n",
       "3 2021-06-01     North   Wholesale           Frame & body        16   \n",
       "4 2021-06-01   Central      Retail                 Engine         2   \n",
       "5 2021-06-01     North   Wholesale  Suspension & traction        40   \n",
       "6 2021-06-01      West      Retail      Electrical system         2   \n",
       "7 2021-06-01   Central      Retail        Breaking system        10   \n",
       "8 2021-06-01      West   Wholesale           Frame & body        40   \n",
       "9 2021-06-01     North      Retail           Frame & body         6   \n",
       "\n",
       "   unit_price    total      payment  \n",
       "0       16.85   134.83  Credit card  \n",
       "1       19.29   173.61         Cash  \n",
       "2       32.93   263.45  Credit card  \n",
       "3       37.84   605.44     Transfer  \n",
       "4       60.48   120.96  Credit card  \n",
       "5       37.37  1494.80     Transfer  \n",
       "6       27.20    54.41  Credit card  \n",
       "7       22.44   224.38  Credit card  \n",
       "8       39.50  1579.87     Transfer  \n",
       "9       45.44   272.61  Credit card  "
      ]
     },
     "execution_count": 6,
     "metadata": {},
     "output_type": "execute_result"
    }
   ],
   "source": [
    "df.head(10)"
   ]
  },
  {
   "cell_type": "markdown",
   "id": "6c0744d0",
   "metadata": {},
   "source": [
    "## 💪 Challenge\n",
    "Create a report to answer your colleague's questions. Include:\n",
    "\n",
    "1. What are the total sales for each payment method?\n",
    "2. What is the average unit price for each product line?\n",
    "3. Create plots to visualize findings for questions 1 and 2.\n",
    "4. [Optional] Investigate further (e.g., average purchase value by client type, total purchase value by product line, etc.)\n",
    "5. Summarize your findings."
   ]
  },
  {
   "cell_type": "code",
   "execution_count": 7,
   "id": "506e81bf-59e2-46a5-9029-35840cd18c51",
   "metadata": {},
   "outputs": [
    {
     "data": {
      "application/com.datacamp.data-table.v1+json": {
       "is_truncated": false,
       "table": {
        "data": [
         {
          "payment": "Cash",
          "total": 19199.1
         },
         {
          "payment": "Credit card",
          "total": 110271.57
         },
         {
          "payment": "Transfer",
          "total": 159642.33
         }
        ],
        "schema": {
         "fields": [
          {
           "name": "payment",
           "type": "string"
          },
          {
           "name": "total",
           "type": "number"
          }
         ],
         "pandas_version": "0.20.0",
         "primaryKey": [
          "payment"
         ]
        }
       },
       "total_rows": 3
      },
      "text/html": [
       "<div>\n",
       "<style scoped>\n",
       "    .dataframe tbody tr th:only-of-type {\n",
       "        vertical-align: middle;\n",
       "    }\n",
       "\n",
       "    .dataframe tbody tr th {\n",
       "        vertical-align: top;\n",
       "    }\n",
       "\n",
       "    .dataframe thead th {\n",
       "        text-align: right;\n",
       "    }\n",
       "</style>\n",
       "<table border=\"1\" class=\"dataframe\">\n",
       "  <thead>\n",
       "    <tr style=\"text-align: right;\">\n",
       "      <th></th>\n",
       "      <th>total</th>\n",
       "    </tr>\n",
       "    <tr>\n",
       "      <th>payment</th>\n",
       "      <th></th>\n",
       "    </tr>\n",
       "  </thead>\n",
       "  <tbody>\n",
       "    <tr>\n",
       "      <th>Cash</th>\n",
       "      <td>19199.10</td>\n",
       "    </tr>\n",
       "    <tr>\n",
       "      <th>Credit card</th>\n",
       "      <td>110271.57</td>\n",
       "    </tr>\n",
       "    <tr>\n",
       "      <th>Transfer</th>\n",
       "      <td>159642.33</td>\n",
       "    </tr>\n",
       "  </tbody>\n",
       "</table>\n",
       "</div>"
      ],
      "text/plain": [
       "                 total\n",
       "payment               \n",
       "Cash          19199.10\n",
       "Credit card  110271.57\n",
       "Transfer     159642.33"
      ]
     },
     "execution_count": 7,
     "metadata": {},
     "output_type": "execute_result"
    }
   ],
   "source": [
    "#Total_sales_for_each_payment\n",
    "df.groupby('payment')[['total']].sum()"
   ]
  },
  {
   "cell_type": "code",
   "execution_count": 8,
   "id": "23511ae6-51c7-4bd7-9f51-8e705afe48ae",
   "metadata": {},
   "outputs": [
    {
     "data": {
      "application/com.datacamp.data-table.v1+json": {
       "is_truncated": false,
       "table": {
        "data": [
         {
          "product_line": "Breaking system",
          "unit_price": 17.7405217391
         },
         {
          "product_line": "Electrical system",
          "unit_price": 25.5851295337
         },
         {
          "product_line": "Engine",
          "unit_price": 60.0918032787
         },
         {
          "product_line": "Frame & body",
          "unit_price": 42.8322289157
         },
         {
          "product_line": "Miscellaneous",
          "unit_price": 22.8107377049
         },
         {
          "product_line": "Suspension & traction",
          "unit_price": 33.9698684211
         }
        ],
        "schema": {
         "fields": [
          {
           "name": "product_line",
           "type": "string"
          },
          {
           "name": "unit_price",
           "type": "number"
          }
         ],
         "pandas_version": "0.20.0",
         "primaryKey": [
          "product_line"
         ]
        }
       },
       "total_rows": 6
      },
      "text/html": [
       "<div>\n",
       "<style scoped>\n",
       "    .dataframe tbody tr th:only-of-type {\n",
       "        vertical-align: middle;\n",
       "    }\n",
       "\n",
       "    .dataframe tbody tr th {\n",
       "        vertical-align: top;\n",
       "    }\n",
       "\n",
       "    .dataframe thead th {\n",
       "        text-align: right;\n",
       "    }\n",
       "</style>\n",
       "<table border=\"1\" class=\"dataframe\">\n",
       "  <thead>\n",
       "    <tr style=\"text-align: right;\">\n",
       "      <th></th>\n",
       "      <th>unit_price</th>\n",
       "    </tr>\n",
       "    <tr>\n",
       "      <th>product_line</th>\n",
       "      <th></th>\n",
       "    </tr>\n",
       "  </thead>\n",
       "  <tbody>\n",
       "    <tr>\n",
       "      <th>Breaking system</th>\n",
       "      <td>17.740522</td>\n",
       "    </tr>\n",
       "    <tr>\n",
       "      <th>Electrical system</th>\n",
       "      <td>25.585130</td>\n",
       "    </tr>\n",
       "    <tr>\n",
       "      <th>Engine</th>\n",
       "      <td>60.091803</td>\n",
       "    </tr>\n",
       "    <tr>\n",
       "      <th>Frame &amp; body</th>\n",
       "      <td>42.832229</td>\n",
       "    </tr>\n",
       "    <tr>\n",
       "      <th>Miscellaneous</th>\n",
       "      <td>22.810738</td>\n",
       "    </tr>\n",
       "    <tr>\n",
       "      <th>Suspension &amp; traction</th>\n",
       "      <td>33.969868</td>\n",
       "    </tr>\n",
       "  </tbody>\n",
       "</table>\n",
       "</div>"
      ],
      "text/plain": [
       "                       unit_price\n",
       "product_line                     \n",
       "Breaking system         17.740522\n",
       "Electrical system       25.585130\n",
       "Engine                  60.091803\n",
       "Frame & body            42.832229\n",
       "Miscellaneous           22.810738\n",
       "Suspension & traction   33.969868"
      ]
     },
     "execution_count": 8,
     "metadata": {},
     "output_type": "execute_result"
    }
   ],
   "source": [
    "df.groupby('product_line')[['unit_price']].mean()"
   ]
  },
  {
   "cell_type": "code",
   "execution_count": 9,
   "id": "fbc7c050-d814-4b16-a825-4e4ed590e879",
   "metadata": {},
   "outputs": [
    {
     "data": {
      "image/png": "[encoded data removed]",
      "text/plain": [
       "<Figure size 432x288 with 1 Axes>"
      ]
     },
     "metadata": {
      "needs_background": "light"
     },
     "output_type": "display_data"
    }
   ],
   "source": [
    "import matplotlib.pyplot as plt\n",
    "total_sales_for_payment=df.groupby('payment')[['total']].sum()\n",
    "total_sales_for_payment.plot(kind='bar')\n",
    "plt.show()"
   ]
  },
  {
   "cell_type": "code",
   "execution_count": 10,
   "id": "2c1ec4b2-d315-4784-9b3d-b76f029b18c2",
   "metadata": {},
   "outputs": [
    {
     "data": {
      "image/png": "[encoded data removed]",
      "text/plain": [
       "<Figure size 432x288 with 1 Axes>"
      ]
     },
     "metadata": {
      "needs_background": "light"
     },
     "output_type": "display_data"
    }
   ],
   "source": [
    "import matplotlib.pyplot as plt\n",
    "avg_product_line_unit_price=df.groupby('product_line')[['unit_price']].mean()\n",
    "avg_product_line_unit_price.plot(kind='bar')\n",
    "plt.show()"
   ]
  },
  {
   "cell_type": "code",
   "execution_count": 11,
   "id": "0cedf973-a4fa-4a3f-af81-04f2bac65dea",
   "metadata": {},
   "outputs": [
    {
     "data": {
      "application/com.datacamp.data-table.v1+json": {
       "is_truncated": false,
       "table": {
        "data": [
         {
          "client_type": "Retail",
          "quantity": 5.4387096774
         },
         {
          "client_type": "Wholesale",
          "quantity": 23.0222222222
         }
        ],
        "schema": {
         "fields": [
          {
           "name": "client_type",
           "type": "string"
          },
          {
           "name": "quantity",
           "type": "number"
          }
         ],
         "pandas_version": "0.20.0",
         "primaryKey": [
          "client_type"
         ]
        }
       },
       "total_rows": 2
      },
      "text/html": [
       "<div>\n",
       "<style scoped>\n",
       "    .dataframe tbody tr th:only-of-type {\n",
       "        vertical-align: middle;\n",
       "    }\n",
       "\n",
       "    .dataframe tbody tr th {\n",
       "        vertical-align: top;\n",
       "    }\n",
       "\n",
       "    .dataframe thead th {\n",
       "        text-align: right;\n",
       "    }\n",
       "</style>\n",
       "<table border=\"1\" class=\"dataframe\">\n",
       "  <thead>\n",
       "    <tr style=\"text-align: right;\">\n",
       "      <th></th>\n",
       "      <th>quantity</th>\n",
       "    </tr>\n",
       "    <tr>\n",
       "      <th>client_type</th>\n",
       "      <th></th>\n",
       "    </tr>\n",
       "  </thead>\n",
       "  <tbody>\n",
       "    <tr>\n",
       "      <th>Retail</th>\n",
       "      <td>5.438710</td>\n",
       "    </tr>\n",
       "    <tr>\n",
       "      <th>Wholesale</th>\n",
       "      <td>23.022222</td>\n",
       "    </tr>\n",
       "  </tbody>\n",
       "</table>\n",
       "</div>"
      ],
      "text/plain": [
       "              quantity\n",
       "client_type           \n",
       "Retail        5.438710\n",
       "Wholesale    23.022222"
      ]
     },
     "execution_count": 11,
     "metadata": {},
     "output_type": "execute_result"
    }
   ],
   "source": [
    "df.groupby('client_type')[['quantity']].mean()"
   ]
  },
  {
   "cell_type": "code",
   "execution_count": 12,
   "id": "8bf957bc-8775-425e-b33b-36c92116a8e1",
   "metadata": {},
   "outputs": [
    {
     "data": {
      "application/com.datacamp.data-table.v1+json": {
       "is_truncated": false,
       "table": {
        "data": [
         {
          "product_line": "Breaking system",
          "quantity": 2130
         },
         {
          "product_line": "Electrical system",
          "quantity": 1698
         },
         {
          "product_line": "Engine",
          "quantity": 627
         },
         {
          "product_line": "Frame & body",
          "quantity": 1619
         },
         {
          "product_line": "Miscellaneous",
          "quantity": 1176
         },
         {
          "product_line": "Suspension & traction",
          "quantity": 2145
         }
        ],
        "schema": {
         "fields": [
          {
           "name": "product_line",
           "type": "string"
          },
          {
           "name": "quantity",
           "type": "integer"
          }
         ],
         "pandas_version": "0.20.0",
         "primaryKey": [
          "product_line"
         ]
        }
       },
       "total_rows": 6
      },
      "text/html": [
       "<div>\n",
       "<style scoped>\n",
       "    .dataframe tbody tr th:only-of-type {\n",
       "        vertical-align: middle;\n",
       "    }\n",
       "\n",
       "    .dataframe tbody tr th {\n",
       "        vertical-align: top;\n",
       "    }\n",
       "\n",
       "    .dataframe thead th {\n",
       "        text-align: right;\n",
       "    }\n",
       "</style>\n",
       "<table border=\"1\" class=\"dataframe\">\n",
       "  <thead>\n",
       "    <tr style=\"text-align: right;\">\n",
       "      <th></th>\n",
       "      <th>quantity</th>\n",
       "    </tr>\n",
       "    <tr>\n",
       "      <th>product_line</th>\n",
       "      <th></th>\n",
       "    </tr>\n",
       "  </thead>\n",
       "  <tbody>\n",
       "    <tr>\n",
       "      <th>Breaking system</th>\n",
       "      <td>2130</td>\n",
       "    </tr>\n",
       "    <tr>\n",
       "      <th>Electrical system</th>\n",
       "      <td>1698</td>\n",
       "    </tr>\n",
       "    <tr>\n",
       "      <th>Engine</th>\n",
       "      <td>627</td>\n",
       "    </tr>\n",
       "    <tr>\n",
       "      <th>Frame &amp; body</th>\n",
       "      <td>1619</td>\n",
       "    </tr>\n",
       "    <tr>\n",
       "      <th>Miscellaneous</th>\n",
       "      <td>1176</td>\n",
       "    </tr>\n",
       "    <tr>\n",
       "      <th>Suspension &amp; traction</th>\n",
       "      <td>2145</td>\n",
       "    </tr>\n",
       "  </tbody>\n",
       "</table>\n",
       "</div>"
      ],
      "text/plain": [
       "                       quantity\n",
       "product_line                   \n",
       "Breaking system            2130\n",
       "Electrical system          1698\n",
       "Engine                      627\n",
       "Frame & body               1619\n",
       "Miscellaneous              1176\n",
       "Suspension & traction      2145"
      ]
     },
     "execution_count": 12,
     "metadata": {},
     "output_type": "execute_result"
    }
   ],
   "source": [
    "df.groupby('product_line')[['quantity']].sum()"
   ]
  },
  {
   "cell_type": "code",
   "execution_count": 13,
   "id": "eaa35f9d-9b68-4c4d-a6d1-e3cd20b85090",
   "metadata": {},
   "outputs": [
    {
     "data": {
      "image/png": "[encoded data removed]",
      "text/plain": [
       "<Figure size 432x288 with 1 Axes>"
      ]
     },
     "metadata": {
      "needs_background": "light"
     },
     "output_type": "display_data"
    }
   ],
   "source": [
    "product_line_quantity=df.groupby('product_line')[['quantity']].sum()\n",
    "product_line_quantity.plot(kind='bar')\n",
    "plt.show()\n"
   ]
  },
  {
   "cell_type": "code",
   "execution_count": 14,
   "id": "f4ab8c53-2ee1-4cca-8a10-bd591e1061ef",
   "metadata": {},
   "outputs": [
    {
     "data": {
      "application/com.datacamp.data-table.v1+json": {
       "is_truncated": false,
       "table": {
        "data": [
         {
          "product_line": "Breaking system",
          "total": 38350.15
         },
         {
          "product_line": "Electrical system",
          "total": 43612.71
         },
         {
          "product_line": "Engine",
          "total": 37945.38
         },
         {
          "product_line": "Frame & body",
          "total": 69024.73
         },
         {
          "product_line": "Miscellaneous",
          "total": 27165.82
         },
         {
          "product_line": "Suspension & traction",
          "total": 73014.21
         }
        ],
        "schema": {
         "fields": [
          {
           "name": "product_line",
           "type": "string"
          },
          {
           "name": "total",
           "type": "number"
          }
         ],
         "pandas_version": "0.20.0",
         "primaryKey": [
          "product_line"
         ]
        }
       },
       "total_rows": 6
      },
      "text/html": [
       "<div>\n",
       "<style scoped>\n",
       "    .dataframe tbody tr th:only-of-type {\n",
       "        vertical-align: middle;\n",
       "    }\n",
       "\n",
       "    .dataframe tbody tr th {\n",
       "        vertical-align: top;\n",
       "    }\n",
       "\n",
       "    .dataframe thead th {\n",
       "        text-align: right;\n",
       "    }\n",
       "</style>\n",
       "<table border=\"1\" class=\"dataframe\">\n",
       "  <thead>\n",
       "    <tr style=\"text-align: right;\">\n",
       "      <th></th>\n",
       "      <th>total</th>\n",
       "    </tr>\n",
       "    <tr>\n",
       "      <th>product_line</th>\n",
       "      <th></th>\n",
       "    </tr>\n",
       "  </thead>\n",
       "  <tbody>\n",
       "    <tr>\n",
       "      <th>Breaking system</th>\n",
       "      <td>38350.15</td>\n",
       "    </tr>\n",
       "    <tr>\n",
       "      <th>Electrical system</th>\n",
       "      <td>43612.71</td>\n",
       "    </tr>\n",
       "    <tr>\n",
       "      <th>Engine</th>\n",
       "      <td>37945.38</td>\n",
       "    </tr>\n",
       "    <tr>\n",
       "      <th>Frame &amp; body</th>\n",
       "      <td>69024.73</td>\n",
       "    </tr>\n",
       "    <tr>\n",
       "      <th>Miscellaneous</th>\n",
       "      <td>27165.82</td>\n",
       "    </tr>\n",
       "    <tr>\n",
       "      <th>Suspension &amp; traction</th>\n",
       "      <td>73014.21</td>\n",
       "    </tr>\n",
       "  </tbody>\n",
       "</table>\n",
       "</div>"
      ],
      "text/plain": [
       "                          total\n",
       "product_line                   \n",
       "Breaking system        38350.15\n",
       "Electrical system      43612.71\n",
       "Engine                 37945.38\n",
       "Frame & body           69024.73\n",
       "Miscellaneous          27165.82\n",
       "Suspension & traction  73014.21"
      ]
     },
     "execution_count": 14,
     "metadata": {},
     "output_type": "execute_result"
    }
   ],
   "source": [
    "df.groupby('product_line')[['total']].sum()\n"
   ]
  },
  {
   "cell_type": "code",
   "execution_count": 21,
   "id": "b4d003e0-8698-47e5-9458-371bc6b6fa97",
   "metadata": {},
   "outputs": [
    {
     "data": {
      "application/com.datacamp.data-table.v1+json": {
       "is_truncated": false,
       "table": {
        "data": [
         {
          "product_line": 480,
          "warehouse": "Central"
         },
         {
          "product_line": 340,
          "warehouse": "North"
         },
         {
          "product_line": 180,
          "warehouse": "West"
         }
        ],
        "schema": {
         "fields": [
          {
           "name": "warehouse",
           "type": "string"
          },
          {
           "name": "product_line",
           "type": "integer"
          }
         ],
         "pandas_version": "0.20.0",
         "primaryKey": [
          "warehouse"
         ]
        }
       },
       "total_rows": 3
      },
      "text/html": [
       "<div>\n",
       "<style scoped>\n",
       "    .dataframe tbody tr th:only-of-type {\n",
       "        vertical-align: middle;\n",
       "    }\n",
       "\n",
       "    .dataframe tbody tr th {\n",
       "        vertical-align: top;\n",
       "    }\n",
       "\n",
       "    .dataframe thead th {\n",
       "        text-align: right;\n",
       "    }\n",
       "</style>\n",
       "<table border=\"1\" class=\"dataframe\">\n",
       "  <thead>\n",
       "    <tr style=\"text-align: right;\">\n",
       "      <th></th>\n",
       "      <th>product_line</th>\n",
       "    </tr>\n",
       "    <tr>\n",
       "      <th>warehouse</th>\n",
       "      <th></th>\n",
       "    </tr>\n",
       "  </thead>\n",
       "  <tbody>\n",
       "    <tr>\n",
       "      <th>Central</th>\n",
       "      <td>480</td>\n",
       "    </tr>\n",
       "    <tr>\n",
       "      <th>North</th>\n",
       "      <td>340</td>\n",
       "    </tr>\n",
       "    <tr>\n",
       "      <th>West</th>\n",
       "      <td>180</td>\n",
       "    </tr>\n",
       "  </tbody>\n",
       "</table>\n",
       "</div>"
      ],
      "text/plain": [
       "           product_line\n",
       "warehouse              \n",
       "Central             480\n",
       "North               340\n",
       "West                180"
      ]
     },
     "execution_count": 21,
     "metadata": {},
     "output_type": "execute_result"
    }
   ],
   "source": [
    "df.groupby('warehouse')[['product_line']].count()"
   ]
  },
  {
   "cell_type": "code",
   "execution_count": 15,
   "id": "4e5a7137-7d7a-4971-96d1-ff6d1c55ac72",
   "metadata": {},
   "outputs": [
    {
     "data": {
      "image/png": "[encoded data removed]",
      "text/plain": [
       "<Figure size 432x288 with 1 Axes>"
      ]
     },
     "metadata": {
      "needs_background": "light"
     },
     "output_type": "display_data"
    }
   ],
   "source": [
    "product_line_total=df.groupby('product_line')[['total']].sum()\n",
    "product_line_total.plot(kind='bar')\n",
    "plt.show()"
   ]
  },
  {
   "cell_type": "markdown",
   "id": "9ba01a4a-4d7e-4e8e-9997-2859b5f4e58d",
   "metadata": {},
   "source": [
    "## CONCLUSION\n",
    "## In the Given Data Set \n",
    "## Total Rows - 1000 \n",
    "## Total Column - 8\n",
    "## Warehouse - 3 Central, North, West \n",
    "## Central Warehouse is with most total,following North while West is lowest.\n",
    "## Client - 2 Retail, Wholesale \n",
    "## Wholesale has more product quantity and total than retail client.\n",
    "## Product line - 6 (Breaking System, Electrical System, Engine, Frame & body,Miscellenious,Suspension & Traction)\n",
    "## Engine product have more unit price but lowest quantity.\n",
    "## \n",
    "## Payment has 3 Types - Transfer, Credit card, Cash\n",
    "## The most payment takes place through Transfer, following Credit card and lowest with Cash mode.\n",
    "## A company does it business most business from Suspension & traction productline, followed nearly by frame and body product line. \n",
    "\n"
   ]
  },
  {
   "cell_type": "markdown",
   "id": "fd227115",
   "metadata": {},
   "source": []
  },
  {
   "cell_type": "code",
   "execution_count": 15,
   "id": "2af88bc7",
   "metadata": {},
   "outputs": [],
   "source": []
  }
 ],
 "metadata": {
  "kernelspec": {
   "display_name": "Python 3 (ipykernel)",
   "language": "python",
   "name": "python3"
  },
  "language_info": {
   "codemirror_mode": {
    "name": "ipython",
    "version": 3
   },
   "file_extension": ".py",
   "mimetype": "text/x-python",
   "name": "python",
   "nbconvert_exporter": "python",
   "pygments_lexer": "ipython3",
   "version": "3.8.10"
  }
 },
 "nbformat": 4,
 "nbformat_minor": 5
}
